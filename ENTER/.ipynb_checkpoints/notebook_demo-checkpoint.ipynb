{
 "cells": [
  {
   "cell_type": "markdown",
   "id": "5a2b306c",
   "metadata": {},
   "source": [
    "# Jupyter Notebook Demo (Unicode Greek)"
   ]
  },
  {
   "cell_type": "markdown",
   "id": "984f4b58",
   "metadata": {},
   "source": [
    "<br>"
   ]
  },
  {
   "cell_type": "code",
   "execution_count": 12,
   "id": "50fd1072",
   "metadata": {},
   "outputs": [
    {
     "data": {
      "text/html": [
       "<style>.container { width:100% !important; }</style>"
      ],
      "text/plain": [
       "<IPython.core.display.HTML object>"
      ]
     },
     "metadata": {},
     "output_type": "display_data"
    }
   ],
   "source": [
    "import numpy as np \n",
    "import pandas as pd\n",
    "from IPython.core.display import display, HTML\n",
    "display(HTML(\"<style>.container { width:100% !important; }</style>\"))"
   ]
  },
  {
   "cell_type": "markdown",
   "id": "e7f02e8c",
   "metadata": {},
   "source": [
    "<br>"
   ]
  },
  {
   "cell_type": "markdown",
   "id": "31c31fc4",
   "metadata": {},
   "source": [
    "## Code Cells"
   ]
  },
  {
   "cell_type": "markdown",
   "id": "3de8710e",
   "metadata": {},
   "source": [
    "If you want to create a greek letter/variable in a jupyter notebook, just type `\\` and then the greek name, and it will autopopulate the Greek character.  This is for jupyter notebook <u>code cells</u>.  \n",
    "\n",
    "i.e. type `\\Omega` and then hit the `Tab` button, and it will autopopulate the greek symbol ! "
   ]
  },
  {
   "cell_type": "code",
   "execution_count": 5,
   "id": "c9280eab",
   "metadata": {},
   "outputs": [],
   "source": [
    "\n",
    "# Typing \\Omega, and then hitting the tab button, and then setting it equal to 100. \n",
    "\n",
    "Ω = 100\n"
   ]
  },
  {
   "cell_type": "code",
   "execution_count": 14,
   "id": "488d9f7a",
   "metadata": {},
   "outputs": [
    {
     "data": {
      "text/plain": [
       "100"
      ]
     },
     "execution_count": 14,
     "metadata": {},
     "output_type": "execute_result"
    }
   ],
   "source": [
    "\n",
    "# Typing \\Omega, and then hitting the tab button, and then seeing what its value is...\n",
    "\n",
    "Ω\n"
   ]
  },
  {
   "cell_type": "code",
   "execution_count": 16,
   "id": "7061cdf1",
   "metadata": {},
   "outputs": [
    {
     "data": {
      "text/plain": [
       "200"
      ]
     },
     "execution_count": 16,
     "metadata": {},
     "output_type": "execute_result"
    }
   ],
   "source": [
    "\n",
    "# Ω is now a true python variable \n",
    "\n",
    "2 * Ω\n"
   ]
  },
  {
   "cell_type": "markdown",
   "id": "5e29216d",
   "metadata": {},
   "source": [
    "## Markdown Cells"
   ]
  },
  {
   "cell_type": "markdown",
   "id": "899f0d0b",
   "metadata": {},
   "source": [
    "\n",
    "For markdown cells, one can just grab the symbol and enter it.  See markdown cell below:\n"
   ]
  },
  {
   "cell_type": "markdown",
   "id": "8948408e",
   "metadata": {},
   "source": [
    "Ω is my favorite greek symbol ! "
   ]
  },
  {
   "cell_type": "markdown",
   "id": "9c67fd73",
   "metadata": {},
   "source": [
    "Or one can enter the official unicode character:"
   ]
  },
  {
   "cell_type": "code",
   "execution_count": 18,
   "id": "10684fd6",
   "metadata": {},
   "outputs": [
    {
     "name": "stdout",
     "output_type": "stream",
     "text": [
      "Omega: Ω\n",
      "Delta: Δ\n",
      "sigma: σ\n",
      "mu: μ\n",
      "epsilon: ε\n"
     ]
    }
   ],
   "source": [
    "\n",
    "print('Omega: \\u03A9')\n",
    "print('Delta: \\u0394')\n",
    "print('sigma: \\u03C3')\n",
    "print('mu: \\u03BC')\n",
    "print('epsilon: \\u03B5')\n"
   ]
  },
  {
   "cell_type": "code",
   "execution_count": 20,
   "id": "a70a461b",
   "metadata": {},
   "outputs": [
    {
     "name": "stdout",
     "output_type": "stream",
     "text": [
      "We will assume a greedy epsilon value of the following: ε = 0.9\n"
     ]
    }
   ],
   "source": [
    "\n",
    "print('We will assume a greedy epsilon value of the following: \\u03B5 = 0.9')\n"
   ]
  },
  {
   "cell_type": "markdown",
   "id": "3003faf0",
   "metadata": {},
   "source": [
    "<br>"
   ]
  }
 ],
 "metadata": {
  "kernelspec": {
   "display_name": "Python 3 (ipykernel)",
   "language": "python",
   "name": "python3"
  },
  "language_info": {
   "codemirror_mode": {
    "name": "ipython",
    "version": 3
   },
   "file_extension": ".py",
   "mimetype": "text/x-python",
   "name": "python",
   "nbconvert_exporter": "python",
   "pygments_lexer": "ipython3",
   "version": "3.8.12"
  },
  "toc": {
   "base_numbering": 1,
   "nav_menu": {},
   "number_sections": true,
   "sideBar": true,
   "skip_h1_title": false,
   "title_cell": "Table of Contents",
   "title_sidebar": "Contents",
   "toc_cell": false,
   "toc_position": {},
   "toc_section_display": true,
   "toc_window_display": false
  }
 },
 "nbformat": 4,
 "nbformat_minor": 5
}
