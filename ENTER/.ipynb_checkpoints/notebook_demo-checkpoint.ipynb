{
 "cells": [
  {
   "cell_type": "markdown",
   "id": "b66dd539",
   "metadata": {},
   "source": [
    "# Jupyter Notebook Demo (Unicode Greek)"
   ]
  },
  {
   "cell_type": "markdown",
   "id": "3fc26811",
   "metadata": {},
   "source": [
    "<br>"
   ]
  },
  {
   "cell_type": "code",
   "execution_count": 12,
   "id": "7a2f6e3a",
   "metadata": {},
   "outputs": [
    {
     "data": {
      "text/html": [
       "<style>.container { width:100% !important; }</style>"
      ],
      "text/plain": [
       "<IPython.core.display.HTML object>"
      ]
     },
     "metadata": {},
     "output_type": "display_data"
    }
   ],
   "source": [
    "import numpy as np \n",
    "import pandas as pd\n",
    "from IPython.core.display import display, HTML\n",
    "display(HTML(\"<style>.container { width:100% !important; }</style>\"))"
   ]
  },
  {
   "cell_type": "markdown",
   "id": "58e27615",
   "metadata": {},
   "source": [
    "<br>"
   ]
  },
  {
   "cell_type": "markdown",
   "id": "49eaf658",
   "metadata": {},
   "source": [
    "## Introduction"
   ]
  },
  {
   "cell_type": "markdown",
   "id": "e7618116",
   "metadata": {},
   "source": [
    "<br>\n",
    "\n",
    "**We will detail a few different use cases:**   \n",
    "\n",
    "\n",
    "  * Creating python variables based on greek letters (our main focus)   \n",
    "  \n",
    "  \n",
    "  * Printing out greek text  \n",
    "  \n",
    "  \n",
    "  \n",
    "  * Printing out greek text 2 \n",
    "  \n",
    "\n",
    "<br>"
   ]
  },
  {
   "cell_type": "markdown",
   "id": "719258dd",
   "metadata": {},
   "source": [
    "<br>"
   ]
  },
  {
   "cell_type": "markdown",
   "id": "b15f67be",
   "metadata": {},
   "source": [
    "## Code Cells"
   ]
  },
  {
   "cell_type": "markdown",
   "id": "6cd7331c",
   "metadata": {},
   "source": [
    "If you want to create a greek letter/variable in a jupyter notebook, just type `\\` and then the greek name, and it will autopopulate the Greek character.  This is for jupyter notebook <u>code cells</u>.  \n",
    "\n",
    "i.e. type `\\Omega` and then hit the `Tab` button, and it will autopopulate the greek symbol ! "
   ]
  },
  {
   "cell_type": "code",
   "execution_count": 5,
   "id": "23512dff",
   "metadata": {},
   "outputs": [],
   "source": [
    "\n",
    "# Typing \\Omega, and then hitting the tab button, and then setting it equal to 100. \n",
    "\n",
    "Ω = 100\n"
   ]
  },
  {
   "cell_type": "code",
   "execution_count": 14,
   "id": "5d647840",
   "metadata": {},
   "outputs": [
    {
     "data": {
      "text/plain": [
       "100"
      ]
     },
     "execution_count": 14,
     "metadata": {},
     "output_type": "execute_result"
    }
   ],
   "source": [
    "\n",
    "# Typing \\Omega, and then hitting the tab button, and then seeing what its value is...\n",
    "\n",
    "Ω\n"
   ]
  },
  {
   "cell_type": "code",
   "execution_count": 16,
   "id": "3e7a0348",
   "metadata": {},
   "outputs": [
    {
     "data": {
      "text/plain": [
       "200"
      ]
     },
     "execution_count": 16,
     "metadata": {},
     "output_type": "execute_result"
    }
   ],
   "source": [
    "\n",
    "# Ω is now a true python variable \n",
    "\n",
    "2 * Ω\n"
   ]
  },
  {
   "cell_type": "markdown",
   "id": "d3a40bfd",
   "metadata": {},
   "source": [
    "<br>"
   ]
  },
  {
   "cell_type": "markdown",
   "id": "944c083e",
   "metadata": {},
   "source": [
    "## Markdown Cells"
   ]
  },
  {
   "cell_type": "markdown",
   "id": "553a012d",
   "metadata": {},
   "source": [
    "\n",
    "Text can be added to Jupyter Notebooks using Markdown cells.  For markdown cells, one can just grab the symbol and enter it.  See markdown cell below:\n"
   ]
  },
  {
   "cell_type": "markdown",
   "id": "3f413bda",
   "metadata": {},
   "source": [
    "Ω is my favorite greek symbol ! "
   ]
  },
  {
   "cell_type": "markdown",
   "id": "30618bed",
   "metadata": {},
   "source": [
    "Or one can enter the official unicode character:"
   ]
  },
  {
   "cell_type": "markdown",
   "id": "375300e0",
   "metadata": {},
   "source": [
    "**LaTeX equations:**"
   ]
  },
  {
   "cell_type": "markdown",
   "id": "d8338d88",
   "metadata": {},
   "source": [
    "$e^{i\\pi} + 1 = 0$ \n",
    "\n",
    "$\\Alpha = 100$"
   ]
  },
  {
   "cell_type": "markdown",
   "id": "66c0b9ea",
   "metadata": {},
   "source": [
    "<br>"
   ]
  },
  {
   "cell_type": "markdown",
   "id": "31b3ff5e",
   "metadata": {},
   "source": [
    "## Printing out greek characters in code output"
   ]
  },
  {
   "cell_type": "code",
   "execution_count": 18,
   "id": "39d50004",
   "metadata": {},
   "outputs": [
    {
     "name": "stdout",
     "output_type": "stream",
     "text": [
      "Omega: Ω\n",
      "Delta: Δ\n",
      "sigma: σ\n",
      "mu: μ\n",
      "epsilon: ε\n"
     ]
    }
   ],
   "source": [
    "\n",
    "print('Omega: \\u03A9')\n",
    "print('Delta: \\u0394')\n",
    "print('sigma: \\u03C3')\n",
    "print('mu: \\u03BC')\n",
    "print('epsilon: \\u03B5')\n"
   ]
  },
  {
   "cell_type": "code",
   "execution_count": 20,
   "id": "2b07e889",
   "metadata": {},
   "outputs": [
    {
     "name": "stdout",
     "output_type": "stream",
     "text": [
      "We will assume a greedy epsilon value of the following: ε = 0.9\n"
     ]
    }
   ],
   "source": [
    "\n",
    "print('We will assume a greedy epsilon value of the following: \\u03B5 = 0.9')\n"
   ]
  },
  {
   "cell_type": "markdown",
   "id": "3353e6e0",
   "metadata": {},
   "source": [
    "<br>"
   ]
  }
 ],
 "metadata": {
  "kernelspec": {
   "display_name": "Python 3 (ipykernel)",
   "language": "python",
   "name": "python3"
  },
  "language_info": {
   "codemirror_mode": {
    "name": "ipython",
    "version": 3
   },
   "file_extension": ".py",
   "mimetype": "text/x-python",
   "name": "python",
   "nbconvert_exporter": "python",
   "pygments_lexer": "ipython3",
   "version": "3.8.12"
  },
  "toc": {
   "base_numbering": 1,
   "nav_menu": {},
   "number_sections": true,
   "sideBar": true,
   "skip_h1_title": false,
   "title_cell": "Table of Contents",
   "title_sidebar": "Contents",
   "toc_cell": false,
   "toc_position": {},
   "toc_section_display": true,
   "toc_window_display": false
  }
 },
 "nbformat": 4,
 "nbformat_minor": 5
}
