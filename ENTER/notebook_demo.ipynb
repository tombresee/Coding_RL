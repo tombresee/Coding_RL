{
 "cells": [
  {
   "cell_type": "markdown",
   "id": "56481716",
   "metadata": {},
   "source": [
    "# Jupyter Notebook Demo (Unicode Greek)"
   ]
  },
  {
   "cell_type": "markdown",
   "id": "1c6af669",
   "metadata": {},
   "source": [
    "<br>"
   ]
  },
  {
   "cell_type": "code",
   "execution_count": 12,
   "id": "a22049f6",
   "metadata": {},
   "outputs": [
    {
     "data": {
      "text/html": [
       "<style>.container { width:100% !important; }</style>"
      ],
      "text/plain": [
       "<IPython.core.display.HTML object>"
      ]
     },
     "metadata": {},
     "output_type": "display_data"
    }
   ],
   "source": [
    "import numpy as np \n",
    "import pandas as pd\n",
    "from IPython.core.display import display, HTML\n",
    "display(HTML(\"<style>.container { width:100% !important; }</style>\"))"
   ]
  },
  {
   "cell_type": "markdown",
   "id": "1d9a2f44",
   "metadata": {},
   "source": [
    "<br>"
   ]
  },
  {
   "cell_type": "markdown",
   "id": "48a46cfc",
   "metadata": {},
   "source": [
    "## Introduction"
   ]
  },
  {
   "cell_type": "markdown",
   "id": "cb73a9a3",
   "metadata": {},
   "source": [
    "* **We will detail a few different use cases:**  \n",
    "\n",
    "  * Creating python variables based on greek letters\n",
    "\n",
    "  * Printing out greek text\n",
    "  \n",
    "  * Printing out greek text 2 \n",
    "  \n",
    "  \n"
   ]
  },
  {
   "cell_type": "markdown",
   "id": "30be0ea3",
   "metadata": {},
   "source": [
    "<br>"
   ]
  },
  {
   "cell_type": "markdown",
   "id": "53ec6070",
   "metadata": {},
   "source": [
    "## Code Cells"
   ]
  },
  {
   "cell_type": "markdown",
   "id": "a280c328",
   "metadata": {},
   "source": [
    "If you want to create a greek letter/variable in a jupyter notebook, just type `\\` and then the greek name, and it will autopopulate the Greek character.  This is for jupyter notebook <u>code cells</u>.  \n",
    "\n",
    "i.e. type `\\Omega` and then hit the `Tab` button, and it will autopopulate the greek symbol ! "
   ]
  },
  {
   "cell_type": "code",
   "execution_count": 5,
   "id": "4b0d769a",
   "metadata": {},
   "outputs": [],
   "source": [
    "\n",
    "# Typing \\Omega, and then hitting the tab button, and then setting it equal to 100. \n",
    "\n",
    "Ω = 100\n"
   ]
  },
  {
   "cell_type": "code",
   "execution_count": 14,
   "id": "c87495ae",
   "metadata": {},
   "outputs": [
    {
     "data": {
      "text/plain": [
       "100"
      ]
     },
     "execution_count": 14,
     "metadata": {},
     "output_type": "execute_result"
    }
   ],
   "source": [
    "\n",
    "# Typing \\Omega, and then hitting the tab button, and then seeing what its value is...\n",
    "\n",
    "Ω\n"
   ]
  },
  {
   "cell_type": "code",
   "execution_count": 16,
   "id": "ac36c1e5",
   "metadata": {},
   "outputs": [
    {
     "data": {
      "text/plain": [
       "200"
      ]
     },
     "execution_count": 16,
     "metadata": {},
     "output_type": "execute_result"
    }
   ],
   "source": [
    "\n",
    "# Ω is now a true python variable \n",
    "\n",
    "2 * Ω\n"
   ]
  },
  {
   "cell_type": "markdown",
   "id": "7095ed36",
   "metadata": {},
   "source": [
    "<br>"
   ]
  },
  {
   "cell_type": "markdown",
   "id": "fc82b504",
   "metadata": {},
   "source": [
    "## Markdown Cells"
   ]
  },
  {
   "cell_type": "markdown",
   "id": "44db7c1d",
   "metadata": {},
   "source": [
    "\n",
    "Text can be added to Jupyter Notebooks using Markdown cells.  For markdown cells, one can just grab the symbol and enter it.  See markdown cell below:\n"
   ]
  },
  {
   "cell_type": "markdown",
   "id": "90b4f6c4",
   "metadata": {},
   "source": [
    "Ω is my favorite greek symbol ! "
   ]
  },
  {
   "cell_type": "markdown",
   "id": "cf2850a9",
   "metadata": {},
   "source": [
    "Or one can enter the official unicode character:"
   ]
  },
  {
   "cell_type": "markdown",
   "id": "5fee6e94",
   "metadata": {},
   "source": [
    "**LaTeX equations:**"
   ]
  },
  {
   "cell_type": "markdown",
   "id": "f655dfb6",
   "metadata": {},
   "source": [
    "$e^{i\\pi} + 1 = 0$ \n",
    "\n",
    "$\\Alpha = 100$"
   ]
  },
  {
   "cell_type": "code",
   "execution_count": null,
   "id": "0316ddfe",
   "metadata": {},
   "outputs": [],
   "source": []
  },
  {
   "cell_type": "code",
   "execution_count": null,
   "id": "8e952f20",
   "metadata": {},
   "outputs": [],
   "source": []
  },
  {
   "cell_type": "markdown",
   "id": "8cfad21d",
   "metadata": {},
   "source": [
    "<br>"
   ]
  },
  {
   "cell_type": "markdown",
   "id": "426e321a",
   "metadata": {},
   "source": [
    "## Printing out greek characters in code output"
   ]
  },
  {
   "cell_type": "code",
   "execution_count": 18,
   "id": "bd27d8eb",
   "metadata": {},
   "outputs": [
    {
     "name": "stdout",
     "output_type": "stream",
     "text": [
      "Omega: Ω\n",
      "Delta: Δ\n",
      "sigma: σ\n",
      "mu: μ\n",
      "epsilon: ε\n"
     ]
    }
   ],
   "source": [
    "\n",
    "print('Omega: \\u03A9')\n",
    "print('Delta: \\u0394')\n",
    "print('sigma: \\u03C3')\n",
    "print('mu: \\u03BC')\n",
    "print('epsilon: \\u03B5')\n"
   ]
  },
  {
   "cell_type": "code",
   "execution_count": 20,
   "id": "72f0b0e9",
   "metadata": {},
   "outputs": [
    {
     "name": "stdout",
     "output_type": "stream",
     "text": [
      "We will assume a greedy epsilon value of the following: ε = 0.9\n"
     ]
    }
   ],
   "source": [
    "\n",
    "print('We will assume a greedy epsilon value of the following: \\u03B5 = 0.9')\n"
   ]
  },
  {
   "cell_type": "markdown",
   "id": "608d6b34",
   "metadata": {},
   "source": [
    "<br>"
   ]
  }
 ],
 "metadata": {
  "kernelspec": {
   "display_name": "Python 3 (ipykernel)",
   "language": "python",
   "name": "python3"
  },
  "language_info": {
   "codemirror_mode": {
    "name": "ipython",
    "version": 3
   },
   "file_extension": ".py",
   "mimetype": "text/x-python",
   "name": "python",
   "nbconvert_exporter": "python",
   "pygments_lexer": "ipython3",
   "version": "3.8.12"
  },
  "toc": {
   "base_numbering": 1,
   "nav_menu": {},
   "number_sections": true,
   "sideBar": true,
   "skip_h1_title": false,
   "title_cell": "Table of Contents",
   "title_sidebar": "Contents",
   "toc_cell": false,
   "toc_position": {},
   "toc_section_display": true,
   "toc_window_display": false
  }
 },
 "nbformat": 4,
 "nbformat_minor": 5
}
